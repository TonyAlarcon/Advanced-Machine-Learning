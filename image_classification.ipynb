{
  "nbformat": 4,
  "nbformat_minor": 0,
  "metadata": {
    "colab": {
      "name": "image-classification.ipynb",
      "provenance": [],
      "collapsed_sections": []
    },
    "kernelspec": {
      "name": "python3",
      "display_name": "Python 3"
    },
    "language_info": {
      "name": "python"
    }
  },
  "cells": [
    {
      "cell_type": "markdown",
      "metadata": {
        "id": "jHqfvnPDQr2d"
      },
      "source": [
        "# Image dataset\n",
        "We will work on the MNIST dataset. Each image has a handwritten digit, e.g., 0,1,2,3,4,5,6,7,8,9. The task is to train a neural network model by 60,000 images (training dataset), and then predict the class label for each of the testing image, 0,1,2,3,4,5,6,7,8, or 9. There are10,000 images in the testing dataset."
      ]
    },
    {
      "cell_type": "code",
      "metadata": {
        "id": "OozM1HKYJ5T9"
      },
      "source": [
        "import numpy as np\n",
        "import matplotlib.pyplot as plt"
      ],
      "execution_count": null,
      "outputs": []
    },
    {
      "cell_type": "code",
      "metadata": {
        "colab": {
          "base_uri": "https://localhost:8080/"
        },
        "id": "4QRnWJMLD77t",
        "outputId": "701729ff-8061-47cd-a560-af163f531e8b"
      },
      "source": [
        "# load training and testing dataset\n",
        "from google.colab import drive\n",
        "drive.mount('/content/gdrive')\n",
        "data_path = \"/content/gdrive/My Drive/Data/\"\n",
        "\n",
        "train_data = np.loadtxt(data_path + \"mnist_train.csv\",  delimiter=\",\") #load file as a matrix\n",
        "test_data = np.loadtxt(data_path + \"mnist_test.csv\",  delimiter=\",\") "
      ],
      "execution_count": null,
      "outputs": [
        {
          "output_type": "stream",
          "name": "stdout",
          "text": [
            "Mounted at /content/gdrive\n"
          ]
        }
      ]
    },
    {
      "cell_type": "code",
      "metadata": {
        "colab": {
          "base_uri": "https://localhost:8080/"
        },
        "id": "YDibGePEGTgJ",
        "outputId": "11dd5bdb-2854-45ee-ca0e-83892e6ecff0"
      },
      "source": [
        "# the number of training images we have\n",
        "train_data.shape "
      ],
      "execution_count": null,
      "outputs": [
        {
          "output_type": "execute_result",
          "data": {
            "text/plain": [
              "(60000, 785)"
            ]
          },
          "metadata": {},
          "execution_count": 3
        }
      ]
    },
    {
      "cell_type": "code",
      "metadata": {
        "colab": {
          "base_uri": "https://localhost:8080/"
        },
        "id": "F1NdA12rGOcN",
        "outputId": "9c98f30b-5905-4d66-8e30-dcba62bebf39"
      },
      "source": [
        "# the number of testing images we have\n",
        "test_data.shape "
      ],
      "execution_count": null,
      "outputs": [
        {
          "output_type": "execute_result",
          "data": {
            "text/plain": [
              "(10000, 785)"
            ]
          },
          "metadata": {},
          "execution_count": 4
        }
      ]
    },
    {
      "cell_type": "code",
      "metadata": {
        "colab": {
          "base_uri": "https://localhost:8080/",
          "height": 761
        },
        "id": "E_KsCJX5Mcky",
        "outputId": "e846ea69-e3b8-4613-fa24-4214b7b17520"
      },
      "source": [
        "image_size = 28 # width and length\n",
        "image_pixels = image_size * image_size\n",
        "\n",
        "# Normalize the pixels range from [0 255] to [0.01, 1]. \n",
        "# To avoid 0 values as inputs, each pixel is multiplied by 0.99 / 255, and then adding 0.01.\n",
        "train_imgs = np.asfarray(train_data[:, 1:]) * 0.99 / 255 + 0.01 #The slicing operator [:, 1:0] Will grab all rows [1-6000] and coloumns [1-785] \n",
        "test_imgs = np.asfarray(test_data[:, 1:]) * 0.99 / 255 + 0.01  #\n",
        "\n",
        "for i in range(3):\n",
        "    img = train_imgs[i].reshape((image_size,image_size))\n",
        "    plt.imshow(img, cmap=\"Greys\")\n",
        "    plt.show()"
      ],
      "execution_count": null,
      "outputs": [
        {
          "output_type": "display_data",
          "data": {
            "image/png": "[encoded data removed]",
            "text/plain": [
              "<Figure size 432x288 with 1 Axes>"
            ]
          },
          "metadata": {
            "needs_background": "light"
          }
        },
        {
          "output_type": "display_data",
          "data": {
            "image/png": "[encoded data removed]",
            "text/plain": [
              "<Figure size 432x288 with 1 Axes>"
            ]
          },
          "metadata": {
            "needs_background": "light"
          }
        },
        {
          "output_type": "display_data",
          "data": {
            "image/png": "[encoded data removed]",
            "text/plain": [
              "<Figure size 432x288 with 1 Axes>"
            ]
          },
          "metadata": {
            "needs_background": "light"
          }
        }
      ]
    },
    {
      "cell_type": "code",
      "metadata": {
        "colab": {
          "base_uri": "https://localhost:8080/"
        },
        "id": "ydcY8kX8G3ez",
        "outputId": "5b903dd6-98b7-495e-cc5f-08afc1a2f7fc"
      },
      "source": [
        "# the first column is the label\n",
        "train_labels = np.asfarray(train_data[:, :1])\n",
        "test_labels = np.asfarray(test_data[:, :1])\n",
        "print(test_labels[1:10,:])"
      ],
      "execution_count": null,
      "outputs": [
        {
          "output_type": "stream",
          "name": "stdout",
          "text": [
            "[[2.]\n",
            " [1.]\n",
            " [0.]\n",
            " [4.]\n",
            " [1.]\n",
            " [4.]\n",
            " [9.]\n",
            " [5.]\n",
            " [9.]]\n"
          ]
        }
      ]
    },
    {
      "cell_type": "code",
      "metadata": {
        "colab": {
          "base_uri": "https://localhost:8080/"
        },
        "id": "IKyPrpb0Iis4",
        "outputId": "ee399717-11f4-4eac-ec45-ed7e2d2ef787"
      },
      "source": [
        "# You may want to make one-hot encoding for the labels \n",
        "lr = np.arange(10)\n",
        "for label in range(10):\n",
        "    one_hot = (lr==label).astype(np.int)\n",
        "    print(\"label: \", label, \" in one-hot representation: \", one_hot)"
      ],
      "execution_count": null,
      "outputs": [
        {
          "output_type": "stream",
          "name": "stdout",
          "text": [
            "label:  0  in one-hot representation:  [1 0 0 0 0 0 0 0 0 0]\n",
            "label:  1  in one-hot representation:  [0 1 0 0 0 0 0 0 0 0]\n",
            "label:  2  in one-hot representation:  [0 0 1 0 0 0 0 0 0 0]\n",
            "label:  3  in one-hot representation:  [0 0 0 1 0 0 0 0 0 0]\n",
            "label:  4  in one-hot representation:  [0 0 0 0 1 0 0 0 0 0]\n",
            "label:  5  in one-hot representation:  [0 0 0 0 0 1 0 0 0 0]\n",
            "label:  6  in one-hot representation:  [0 0 0 0 0 0 1 0 0 0]\n",
            "label:  7  in one-hot representation:  [0 0 0 0 0 0 0 1 0 0]\n",
            "label:  8  in one-hot representation:  [0 0 0 0 0 0 0 0 1 0]\n",
            "label:  9  in one-hot representation:  [0 0 0 0 0 0 0 0 0 1]\n"
          ]
        }
      ]
    },
    {
      "cell_type": "code",
      "metadata": {
        "colab": {
          "base_uri": "https://localhost:8080/"
        },
        "id": "utfebNs1Nefu",
        "outputId": "85656664-6fdc-48ed-a1f3-5f2575930bf1"
      },
      "source": [
        "#Then transform training and testing labels into one hot representation\n",
        "train_labels_one_hot = (lr==train_labels).astype(np.float)\n",
        "test_labels_one_hot = (lr==test_labels).astype(np.float)\n",
        "\n",
        "print(test_labels_one_hot[1:10,:])"
      ],
      "execution_count": null,
      "outputs": [
        {
          "output_type": "stream",
          "name": "stdout",
          "text": [
            "[[0. 0. 1. 0. 0. 0. 0. 0. 0. 0.]\n",
            " [0. 1. 0. 0. 0. 0. 0. 0. 0. 0.]\n",
            " [1. 0. 0. 0. 0. 0. 0. 0. 0. 0.]\n",
            " [0. 0. 0. 0. 1. 0. 0. 0. 0. 0.]\n",
            " [0. 1. 0. 0. 0. 0. 0. 0. 0. 0.]\n",
            " [0. 0. 0. 0. 1. 0. 0. 0. 0. 0.]\n",
            " [0. 0. 0. 0. 0. 0. 0. 0. 0. 1.]\n",
            " [0. 0. 0. 0. 0. 1. 0. 0. 0. 0.]\n",
            " [0. 0. 0. 0. 0. 0. 0. 0. 0. 1.]]\n"
          ]
        }
      ]
    },
    {
      "cell_type": "markdown",
      "metadata": {
        "id": "byg7dHgKP2t9"
      },
      "source": [
        "## (8 points) implement a Multi-layer Neural Network model as a classifier. It is unnecessary to write the backpropagation training process by yourself. You can use machine learning libraries for training the neural network."
      ]
    },
    {
      "cell_type": "markdown",
      "metadata": {
        "id": "puqJ5Hf2P_vn"
      },
      "source": [
        "### (a) (1pts) In the multi-layer neural network you designed, how many hidden layers, and how many hidden units? How many parameters to learn in your model?\n",
        "\n",
        "The Multi-Layer Perceptron (MLP) designed below produces relatively high accurate results on both training and test data. The neural network has 784 input parameters, 1 hidden layer with 80 neurons and 10 neurons on it's output layer. Therefore, the total number of parameters are:\n",
        "\n",
        "$Parameters = 784 \\times 80 + 80 \\times 10 + 90 (Bias) = 63,610$"
      ]
    },
    {
      "cell_type": "code",
      "metadata": {
        "colab": {
          "base_uri": "https://localhost:8080/"
        },
        "id": "gJD3plfF1C1A",
        "outputId": "d2f0fcbb-92f3-44a9-c936-97dde29817ae"
      },
      "source": [
        "from keras.models import Sequential\n",
        "from keras.layers import Dense\n",
        "\n",
        "#defining the neural network\n",
        "\n",
        "\n",
        "nn = Sequential([\n",
        "               Dense(80, input_dim = 784, activation='relu'),\n",
        "               Dense(10, activation='softmax') \n",
        "])\n",
        "\n",
        "nn.compile(loss='categorical_crossentropy', optimizer='adam',metrics=['accuracy'])\n",
        "history = nn.fit(train_imgs,train_labels_one_hot, epochs = 40 , batch_size=64)"
      ],
      "execution_count": null,
      "outputs": [
        {
          "output_type": "stream",
          "name": "stdout",
          "text": [
            "Epoch 1/40\n",
            "938/938 [==============================] - 4s 4ms/step - loss: 0.3485 - accuracy: 0.9017\n",
            "Epoch 2/40\n",
            "938/938 [==============================] - 3s 4ms/step - loss: 0.1620 - accuracy: 0.9536\n",
            "Epoch 3/40\n",
            "938/938 [==============================] - 3s 4ms/step - loss: 0.1172 - accuracy: 0.9660\n",
            "Epoch 4/40\n",
            "938/938 [==============================] - 3s 4ms/step - loss: 0.0926 - accuracy: 0.9725\n",
            "Epoch 5/40\n",
            "938/938 [==============================] - 4s 4ms/step - loss: 0.0755 - accuracy: 0.9774\n",
            "Epoch 6/40\n",
            "938/938 [==============================] - 3s 4ms/step - loss: 0.0641 - accuracy: 0.9812\n",
            "Epoch 7/40\n",
            "938/938 [==============================] - 3s 4ms/step - loss: 0.0533 - accuracy: 0.9844\n",
            "Epoch 8/40\n",
            "938/938 [==============================] - 3s 4ms/step - loss: 0.0456 - accuracy: 0.9863\n",
            "Epoch 9/40\n",
            "938/938 [==============================] - 3s 4ms/step - loss: 0.0393 - accuracy: 0.9884\n",
            "Epoch 10/40\n",
            "938/938 [==============================] - 3s 4ms/step - loss: 0.0348 - accuracy: 0.9897\n",
            "Epoch 11/40\n",
            "938/938 [==============================] - 3s 3ms/step - loss: 0.0296 - accuracy: 0.9915\n",
            "Epoch 12/40\n",
            "938/938 [==============================] - 4s 4ms/step - loss: 0.0252 - accuracy: 0.9927\n",
            "Epoch 13/40\n",
            "938/938 [==============================] - 3s 4ms/step - loss: 0.0224 - accuracy: 0.9938\n",
            "Epoch 14/40\n",
            "938/938 [==============================] - 3s 3ms/step - loss: 0.0191 - accuracy: 0.9948\n",
            "Epoch 15/40\n",
            "938/938 [==============================] - 3s 3ms/step - loss: 0.0173 - accuracy: 0.9955\n",
            "Epoch 16/40\n",
            "938/938 [==============================] - 3s 3ms/step - loss: 0.0151 - accuracy: 0.9959\n",
            "Epoch 17/40\n",
            "938/938 [==============================] - 3s 3ms/step - loss: 0.0140 - accuracy: 0.9960\n",
            "Epoch 18/40\n",
            "938/938 [==============================] - 3s 3ms/step - loss: 0.0117 - accuracy: 0.9969\n",
            "Epoch 19/40\n",
            "938/938 [==============================] - 3s 3ms/step - loss: 0.0109 - accuracy: 0.9974\n",
            "Epoch 20/40\n",
            "938/938 [==============================] - 3s 3ms/step - loss: 0.0090 - accuracy: 0.9978\n",
            "Epoch 21/40\n",
            "938/938 [==============================] - 3s 3ms/step - loss: 0.0086 - accuracy: 0.9979\n",
            "Epoch 22/40\n",
            "938/938 [==============================] - 2s 3ms/step - loss: 0.0077 - accuracy: 0.9980\n",
            "Epoch 23/40\n",
            "938/938 [==============================] - 2s 3ms/step - loss: 0.0073 - accuracy: 0.9983\n",
            "Epoch 24/40\n",
            "938/938 [==============================] - 3s 3ms/step - loss: 0.0069 - accuracy: 0.9984\n",
            "Epoch 25/40\n",
            "938/938 [==============================] - 2s 3ms/step - loss: 0.0046 - accuracy: 0.9991\n",
            "Epoch 26/40\n",
            "938/938 [==============================] - 2s 2ms/step - loss: 0.0067 - accuracy: 0.9980\n",
            "Epoch 27/40\n",
            "938/938 [==============================] - 2s 2ms/step - loss: 0.0043 - accuracy: 0.9991\n",
            "Epoch 28/40\n",
            "938/938 [==============================] - 2s 3ms/step - loss: 0.0052 - accuracy: 0.9988\n",
            "Epoch 29/40\n",
            "938/938 [==============================] - 3s 3ms/step - loss: 0.0048 - accuracy: 0.9988\n",
            "Epoch 30/40\n",
            "938/938 [==============================] - 3s 3ms/step - loss: 0.0022 - accuracy: 0.9996\n",
            "Epoch 31/40\n",
            "938/938 [==============================] - 2s 3ms/step - loss: 0.0052 - accuracy: 0.9985\n",
            "Epoch 32/40\n",
            "938/938 [==============================] - 3s 3ms/step - loss: 0.0051 - accuracy: 0.9985\n",
            "Epoch 33/40\n",
            "938/938 [==============================] - 3s 3ms/step - loss: 0.0015 - accuracy: 0.9998\n",
            "Epoch 34/40\n",
            "938/938 [==============================] - 2s 3ms/step - loss: 0.0027 - accuracy: 0.9993\n",
            "Epoch 35/40\n",
            "938/938 [==============================] - 2s 3ms/step - loss: 0.0062 - accuracy: 0.9981\n",
            "Epoch 36/40\n",
            "938/938 [==============================] - 2s 3ms/step - loss: 0.0021 - accuracy: 0.9995\n",
            "Epoch 37/40\n",
            "938/938 [==============================] - 2s 2ms/step - loss: 0.0012 - accuracy: 0.9998\n",
            "Epoch 38/40\n",
            "938/938 [==============================] - 2s 2ms/step - loss: 0.0048 - accuracy: 0.9987\n",
            "Epoch 39/40\n",
            "938/938 [==============================] - 2s 2ms/step - loss: 0.0045 - accuracy: 0.9984\n",
            "Epoch 40/40\n",
            "938/938 [==============================] - 2s 2ms/step - loss: 0.0012 - accuracy: 0.9998\n"
          ]
        }
      ]
    },
    {
      "cell_type": "code",
      "metadata": {
        "colab": {
          "base_uri": "https://localhost:8080/"
        },
        "id": "gqtuGBOefzEA",
        "outputId": "69badac2-707a-4054-e2e0-965de111b69a"
      },
      "source": [
        "nn.summary()"
      ],
      "execution_count": null,
      "outputs": [
        {
          "output_type": "stream",
          "name": "stdout",
          "text": [
            "Model: \"sequential\"\n",
            "_________________________________________________________________\n",
            "Layer (type)                 Output Shape              Param #   \n",
            "=================================================================\n",
            "dense (Dense)                (None, 80)                62800     \n",
            "_________________________________________________________________\n",
            "dense_1 (Dense)              (None, 10)                810       \n",
            "=================================================================\n",
            "Total params: 63,610\n",
            "Trainable params: 63,610\n",
            "Non-trainable params: 0\n",
            "_________________________________________________________________\n"
          ]
        }
      ]
    },
    {
      "cell_type": "markdown",
      "metadata": {
        "id": "aAvjPNHlPv25"
      },
      "source": [
        "### (b) (1pts) Show your learning curve (the decrease of loss function over iterations), and make sure that your model is well-trained.\n",
        "\n",
        "\n"
      ]
    },
    {
      "cell_type": "code",
      "metadata": {
        "colab": {
          "base_uri": "https://localhost:8080/",
          "height": 295
        },
        "id": "dz5jr1UlFZn3",
        "outputId": "5d03922d-2dd7-4d63-e9bf-ccad8400c314"
      },
      "source": [
        "import matplotlib.pyplot as plt\n",
        "\n",
        "plt.plot(history.history['loss'])\n",
        "plt.title('Loss Function vs. Iterations')\n",
        "plt.ylabel('Loss')\n",
        "plt.xlabel('Epoch')\n",
        "plt.show()"
      ],
      "execution_count": null,
      "outputs": [
        {
          "output_type": "display_data",
          "data": {
            "image/png": "[encoded data removed]",
            "text/plain": [
              "<Figure size 432x288 with 1 Axes>"
            ]
          },
          "metadata": {
            "needs_background": "light"
          }
        }
      ]
    },
    {
      "cell_type": "markdown",
      "metadata": {
        "id": "BnEvAA1vQTst"
      },
      "source": [
        "### (C) (1pts) what is the classification accuracy on your training data? And on the testing data? Hint: accuracy higher than 0.94 is expected."
      ]
    },
    {
      "cell_type": "code",
      "metadata": {
        "id": "8_MTU9PQ-GLI",
        "colab": {
          "base_uri": "https://localhost:8080/"
        },
        "outputId": "0f045876-cd50-4fe7-cbe2-6727d0135083"
      },
      "source": [
        "from sklearn.metrics import accuracy_score, confusion_matrix\n",
        "prob_matrix = nn.predict(test_imgs) #returns an array of length 10000 whose elements are 10-element arrays with probabilities\n",
        "\n",
        "\n",
        "def probability_to_decision(probability_matrix):\n",
        "  predictions = []\n",
        "\n",
        "  for i in range(len(probability_matrix)):\n",
        "    predictions.append(np.argmax(probability_matrix[i])) #appends the index whose value is the maximum within a given array\n",
        "\n",
        "  return predictions\n",
        "\n",
        "training_predictions = probability_to_decision(nn.predict(train_imgs))\n",
        "test_predictions = probability_to_decision(prob_matrix)\n",
        "\n",
        "print(\"Accuracy Score on Testing Data: \", accuracy_score(test_predictions, test_labels))\n",
        "print(\"Accuracy Score on Training Data: \", accuracy_score(training_predictions, train_labels))"
      ],
      "execution_count": null,
      "outputs": [
        {
          "output_type": "stream",
          "name": "stdout",
          "text": [
            "Accuracy Score on Testing Data:  0.9772\n",
            "Accuracy Score on Training Data:  0.9999166666666667\n"
          ]
        }
      ]
    },
    {
      "cell_type": "markdown",
      "metadata": {
        "id": "MwPp5bEuQZ2I"
      },
      "source": [
        "### (d) (2pts) please show the confusion matrix from your prediction results on the testing data, and discuss what you can observe from the confusion matrix (how the model made what kinds of wrong classifications)."
      ]
    },
    {
      "cell_type": "markdown",
      "metadata": {
        "id": "ta9aIMFp88pG"
      },
      "source": [
        "In the confusion matrix below, the diagonal lines represent the number of accurately classified samples for each class. For example, the first diagonal tells us that 967 samples of class '0' were accurately classified as '0' by our MLP model. The off-diagonal numbers indicate the number of errors the model made. For example the value in row labeled '4' with column labeled '9' indicates that there were 11 instances where the model predicted a sample to '9' when in reality, it's true label was '4'. This number is the highest non-diagonal value in the confusion matrix, which indicates that our model has the toughest time recognizing between the number 4 and number 9, however, this number is significantly lower than the diagonal values. The other two highest rate of missclassification is when the model predicted '9' when the true value was '3' and when the model predicted '2' when the actual value was '7', each of which has a misclassification value of 10. "
      ]
    },
    {
      "cell_type": "code",
      "metadata": {
        "colab": {
          "base_uri": "https://localhost:8080/",
          "height": 338
        },
        "id": "nJACkA2uBXkX",
        "outputId": "a02ad325-bf08-4346-cbb6-d36d744b2f90"
      },
      "source": [
        "from sklearn.metrics import accuracy_score, confusion_matrix\n",
        "import seaborn as sn\n",
        "\n",
        "plt.figure(figsize = (16,5))\n",
        "ax = plt.subplot()\n",
        "conf_matrix = confusion_matrix(test_labels, test_predictions)\n",
        "sn.heatmap(conf_matrix, ax = ax, annot=True, fmt='g', cmap='BuPu')\n",
        "ax.xaxis.set_label_position('top')\n",
        "ax.xaxis.tick_top()\n",
        "ax.set_xlabel('Predicted Number')\n",
        "ax.set_ylabel('Actual Number');\n"
      ],
      "execution_count": null,
      "outputs": [
        {
          "output_type": "display_data",
          "data": {
            "image/png": "[encoded data removed]",
            "text/plain": [
              "<Figure size 1152x360 with 2 Axes>"
            ]
          },
          "metadata": {
            "needs_background": "light"
          }
        }
      ]
    },
    {
      "cell_type": "markdown",
      "metadata": {
        "id": "4-dnv5XdQeh3"
      },
      "source": [
        "### (e) (2pts) please report the precision, recall and F1-measure for each of the 10 classes, and the Marco-F1 value as an overall evaluation score."
      ]
    },
    {
      "cell_type": "code",
      "metadata": {
        "colab": {
          "base_uri": "https://localhost:8080/"
        },
        "id": "Lu0n9yAtN3kh",
        "outputId": "80d366ea-534f-4493-a4aa-9edf668309a5"
      },
      "source": [
        "from sklearn.metrics import classification_report\n",
        "from sklearn.metrics import f1_score\n",
        "\n",
        "print(classification_report(test_labels,test_predictions))\n",
        "print(\"F1 Macro Score for MLP Model #1: \", f1_score(test_labels, test_predictions, average='macro'))"
      ],
      "execution_count": null,
      "outputs": [
        {
          "output_type": "stream",
          "name": "stdout",
          "text": [
            "              precision    recall  f1-score   support\n",
            "\n",
            "         0.0       0.98      0.99      0.99       980\n",
            "         1.0       0.99      0.99      0.99      1135\n",
            "         2.0       0.98      0.97      0.98      1032\n",
            "         3.0       0.98      0.98      0.98      1010\n",
            "         4.0       0.98      0.97      0.98       982\n",
            "         5.0       0.98      0.97      0.98       892\n",
            "         6.0       0.98      0.98      0.98       958\n",
            "         7.0       0.97      0.97      0.97      1028\n",
            "         8.0       0.96      0.98      0.97       974\n",
            "         9.0       0.97      0.96      0.97      1009\n",
            "\n",
            "    accuracy                           0.98     10000\n",
            "   macro avg       0.98      0.98      0.98     10000\n",
            "weighted avg       0.98      0.98      0.98     10000\n",
            "\n",
            "F1 Macro Score for MLP Model #1:  0.9770709917430167\n"
          ]
        }
      ]
    },
    {
      "cell_type": "markdown",
      "metadata": {
        "id": "ksiqToXDQj7W"
      },
      "source": [
        "### (f) (1pts) Please compare the Marco-F1 score of your 3 different models (with different number of parameters), and discuss which one is better and why."
      ]
    },
    {
      "cell_type": "markdown",
      "metadata": {
        "id": "9ROWkV9gAm1g"
      },
      "source": [
        "Below we build two more MLP models with different number of parameters. The three models, number of parameters and resulting macro-F1 score on testing data are summarized below\n",
        "\n",
        "1. For Model #1, we have 1 hidden layers with 80 hidden units each with a relu activation funcntion, and an output layer with 10 units. The number of parameters in this fully connected MLP is:  Parameters = (784 x 80) + (80 x 10) + 90 (Bias)  = 63,610. F1 Macro Score for MLP Model #1:  0.9770709917430167\n",
        "2. For Model #2, we have 2 hidden layers, each with 20 hidden units with a relu activation fcuntion, and an output layer with 10 units. The number of parameters in this fully connected MLP is:  Parameters = (784 x 20) + (20 x 20) + (20 x 10) + 50 (Bias) = 16,330. F1 Macro Score for MLP Model #2:  0.9606301491190019\n",
        "3. For Model #3, we have 2 hidden layers, each with 200 hidden units with a relu activation fcuntion, and an output layer with 10 units. The number of parameters in this fully connected MLP is:  Parameters = (784 x 200) + (200 x 200) + (200 x 10) + 510 (Bias) =  199,210. F1 Macro Score for MLP Model #3:  0.9816683213182724\n",
        "\n",
        "\n",
        "Note that the Macro-F1 Score is used to assess the quality of different models of multiclass problems where all classes are given equal contribution regarless of the number of instances. From the three models discussed above, Model #3 has the highest Macro Score and is therefore the superior model since it has higher accuracy than the remaining models. Note that this is probably due to the high number of parameters, they are possibly able to capture more significant data that improves their accuracy. "
      ]
    },
    {
      "cell_type": "code",
      "metadata": {
        "id": "viLgWQKmQl_v",
        "colab": {
          "base_uri": "https://localhost:8080/"
        },
        "outputId": "f0319fcf-f509-4696-b149-e30027b2167d"
      },
      "source": [
        "# MLP model #2 \n",
        "\n",
        "nn2 = Sequential([\n",
        "                  Dense(20, input_dim = 784, activation='relu'),\n",
        "                  Dense(20, activation = 'relu'),\n",
        "                  Dense(10, activation = 'softmax')\n",
        "])\n",
        "\n",
        "nn2.compile(loss='categorical_crossentropy', optimizer='adam',metrics=['accuracy'])\n",
        "history = nn2.fit(train_imgs,train_labels_one_hot, epochs = 40 , batch_size=64)"
      ],
      "execution_count": null,
      "outputs": [
        {
          "output_type": "stream",
          "name": "stdout",
          "text": [
            "Epoch 1/40\n",
            "938/938 [==============================] - 2s 2ms/step - loss: 0.4666 - accuracy: 0.8639\n",
            "Epoch 2/40\n",
            "938/938 [==============================] - 2s 2ms/step - loss: 0.2393 - accuracy: 0.9306\n",
            "Epoch 3/40\n",
            "938/938 [==============================] - 2s 2ms/step - loss: 0.1978 - accuracy: 0.9427\n",
            "Epoch 4/40\n",
            "938/938 [==============================] - 2s 2ms/step - loss: 0.1713 - accuracy: 0.9492\n",
            "Epoch 5/40\n",
            "938/938 [==============================] - 2s 2ms/step - loss: 0.1552 - accuracy: 0.9539\n",
            "Epoch 6/40\n",
            "938/938 [==============================] - 2s 2ms/step - loss: 0.1415 - accuracy: 0.9566\n",
            "Epoch 7/40\n",
            "938/938 [==============================] - 2s 2ms/step - loss: 0.1317 - accuracy: 0.9602\n",
            "Epoch 8/40\n",
            "938/938 [==============================] - 2s 2ms/step - loss: 0.1247 - accuracy: 0.9617\n",
            "Epoch 9/40\n",
            "938/938 [==============================] - 2s 2ms/step - loss: 0.1188 - accuracy: 0.9635\n",
            "Epoch 10/40\n",
            "938/938 [==============================] - 2s 2ms/step - loss: 0.1108 - accuracy: 0.9652\n",
            "Epoch 11/40\n",
            "938/938 [==============================] - 2s 2ms/step - loss: 0.1067 - accuracy: 0.9668\n",
            "Epoch 12/40\n",
            "938/938 [==============================] - 2s 2ms/step - loss: 0.1010 - accuracy: 0.9693\n",
            "Epoch 13/40\n",
            "938/938 [==============================] - 2s 2ms/step - loss: 0.0964 - accuracy: 0.9705\n",
            "Epoch 14/40\n",
            "938/938 [==============================] - 2s 2ms/step - loss: 0.0929 - accuracy: 0.9716\n",
            "Epoch 15/40\n",
            "938/938 [==============================] - 2s 2ms/step - loss: 0.0897 - accuracy: 0.9730\n",
            "Epoch 16/40\n",
            "938/938 [==============================] - 2s 2ms/step - loss: 0.0854 - accuracy: 0.9739\n",
            "Epoch 17/40\n",
            "938/938 [==============================] - 2s 2ms/step - loss: 0.0831 - accuracy: 0.9744\n",
            "Epoch 18/40\n",
            "938/938 [==============================] - 2s 2ms/step - loss: 0.0812 - accuracy: 0.9748\n",
            "Epoch 19/40\n",
            "938/938 [==============================] - 2s 2ms/step - loss: 0.0776 - accuracy: 0.9753\n",
            "Epoch 20/40\n",
            "938/938 [==============================] - 2s 2ms/step - loss: 0.0755 - accuracy: 0.9765\n",
            "Epoch 21/40\n",
            "938/938 [==============================] - 2s 2ms/step - loss: 0.0729 - accuracy: 0.9771\n",
            "Epoch 22/40\n",
            "938/938 [==============================] - 2s 2ms/step - loss: 0.0711 - accuracy: 0.9776\n",
            "Epoch 23/40\n",
            "938/938 [==============================] - 2s 2ms/step - loss: 0.0682 - accuracy: 0.9789\n",
            "Epoch 24/40\n",
            "938/938 [==============================] - 2s 2ms/step - loss: 0.0673 - accuracy: 0.9789\n",
            "Epoch 25/40\n",
            "938/938 [==============================] - 2s 2ms/step - loss: 0.0661 - accuracy: 0.9795\n",
            "Epoch 26/40\n",
            "938/938 [==============================] - 2s 2ms/step - loss: 0.0637 - accuracy: 0.9796\n",
            "Epoch 27/40\n",
            "938/938 [==============================] - 2s 2ms/step - loss: 0.0623 - accuracy: 0.9800\n",
            "Epoch 28/40\n",
            "938/938 [==============================] - 2s 2ms/step - loss: 0.0613 - accuracy: 0.9804\n",
            "Epoch 29/40\n",
            "938/938 [==============================] - 2s 2ms/step - loss: 0.0608 - accuracy: 0.9804\n",
            "Epoch 30/40\n",
            "938/938 [==============================] - 2s 2ms/step - loss: 0.0580 - accuracy: 0.9815\n",
            "Epoch 31/40\n",
            "938/938 [==============================] - 2s 2ms/step - loss: 0.0564 - accuracy: 0.9824\n",
            "Epoch 32/40\n",
            "938/938 [==============================] - 2s 2ms/step - loss: 0.0554 - accuracy: 0.9826\n",
            "Epoch 33/40\n",
            "938/938 [==============================] - 2s 2ms/step - loss: 0.0542 - accuracy: 0.9827\n",
            "Epoch 34/40\n",
            "938/938 [==============================] - 2s 2ms/step - loss: 0.0542 - accuracy: 0.9822\n",
            "Epoch 35/40\n",
            "938/938 [==============================] - 2s 2ms/step - loss: 0.0520 - accuracy: 0.9831\n",
            "Epoch 36/40\n",
            "938/938 [==============================] - 2s 2ms/step - loss: 0.0511 - accuracy: 0.9835\n",
            "Epoch 37/40\n",
            "938/938 [==============================] - 2s 2ms/step - loss: 0.0507 - accuracy: 0.9839\n",
            "Epoch 38/40\n",
            "938/938 [==============================] - 2s 2ms/step - loss: 0.0494 - accuracy: 0.9840\n",
            "Epoch 39/40\n",
            "938/938 [==============================] - 2s 2ms/step - loss: 0.0479 - accuracy: 0.9845\n",
            "Epoch 40/40\n",
            "938/938 [==============================] - 2s 2ms/step - loss: 0.0463 - accuracy: 0.9851\n"
          ]
        }
      ]
    },
    {
      "cell_type": "code",
      "metadata": {
        "colab": {
          "base_uri": "https://localhost:8080/"
        },
        "id": "ov1iaD1agfQn",
        "outputId": "d7462e3c-f419-410d-af02-71c8465f106f"
      },
      "source": [
        "nn2.summary()"
      ],
      "execution_count": null,
      "outputs": [
        {
          "output_type": "stream",
          "name": "stdout",
          "text": [
            "Model: \"sequential_1\"\n",
            "_________________________________________________________________\n",
            "Layer (type)                 Output Shape              Param #   \n",
            "=================================================================\n",
            "dense_2 (Dense)              (None, 20)                15700     \n",
            "_________________________________________________________________\n",
            "dense_3 (Dense)              (None, 20)                420       \n",
            "_________________________________________________________________\n",
            "dense_4 (Dense)              (None, 10)                210       \n",
            "=================================================================\n",
            "Total params: 16,330\n",
            "Trainable params: 16,330\n",
            "Non-trainable params: 0\n",
            "_________________________________________________________________\n"
          ]
        }
      ]
    },
    {
      "cell_type": "code",
      "metadata": {
        "colab": {
          "base_uri": "https://localhost:8080/"
        },
        "id": "3mSaocmw6p5k",
        "outputId": "562f845f-8765-4cb0-bf44-47c9352b286a"
      },
      "source": [
        "#Comparison Metrics for Model #2\n",
        "\n",
        "prob_matrix2 = nn2.predict(test_imgs) #returns an array of length 10000 whose elements are 10-element arrays with probabilities\n",
        "test_predictions_nn2 = probability_to_decision(prob_matrix2)\n",
        "print(classification_report(test_labels,test_predictions_nn2))\n",
        "print(\"F1 Macro Score for MLP Model #2: \", f1_score(test_labels, test_predictions_nn2, average='macro'))"
      ],
      "execution_count": null,
      "outputs": [
        {
          "output_type": "stream",
          "name": "stdout",
          "text": [
            "              precision    recall  f1-score   support\n",
            "\n",
            "         0.0       0.97      0.99      0.98       980\n",
            "         1.0       1.00      0.97      0.98      1135\n",
            "         2.0       0.97      0.95      0.96      1032\n",
            "         3.0       0.93      0.96      0.95      1010\n",
            "         4.0       0.97      0.94      0.95       982\n",
            "         5.0       0.95      0.95      0.95       892\n",
            "         6.0       0.96      0.98      0.97       958\n",
            "         7.0       0.97      0.96      0.97      1028\n",
            "         8.0       0.94      0.96      0.95       974\n",
            "         9.0       0.95      0.96      0.95      1009\n",
            "\n",
            "    accuracy                           0.96     10000\n",
            "   macro avg       0.96      0.96      0.96     10000\n",
            "weighted avg       0.96      0.96      0.96     10000\n",
            "\n",
            "F1 Macro Score for MLP Model #2:  0.9606301491190019\n"
          ]
        }
      ]
    },
    {
      "cell_type": "code",
      "metadata": {
        "colab": {
          "base_uri": "https://localhost:8080/"
        },
        "id": "MUL8Kc4j5QyO",
        "outputId": "d89c628b-c5c9-470f-dd0b-010579bbc853"
      },
      "source": [
        "#MLP model #3\n",
        "\n",
        "nn3 = Sequential([\n",
        "                  Dense(200, input_dim = 784, activation='relu'),\n",
        "                  Dense(200, activation='relu'),\n",
        "                  Dense(10, activation = 'softmax') \n",
        "\n",
        "])\n",
        "\n",
        "nn3.compile(loss='categorical_crossentropy', optimizer='adam',metrics=['accuracy'])\n",
        "history = nn3.fit(train_imgs,train_labels_one_hot, epochs = 40 , batch_size=64)"
      ],
      "execution_count": null,
      "outputs": [
        {
          "output_type": "stream",
          "name": "stdout",
          "text": [
            "Epoch 1/40\n",
            "938/938 [==============================] - 6s 6ms/step - loss: 0.2369 - accuracy: 0.9312\n",
            "Epoch 2/40\n",
            "938/938 [==============================] - 7s 8ms/step - loss: 0.0953 - accuracy: 0.9716\n",
            "Epoch 3/40\n",
            "938/938 [==============================] - 7s 8ms/step - loss: 0.0642 - accuracy: 0.9800\n",
            "Epoch 4/40\n",
            "938/938 [==============================] - 7s 7ms/step - loss: 0.0476 - accuracy: 0.9849\n",
            "Epoch 5/40\n",
            "938/938 [==============================] - 7s 7ms/step - loss: 0.0356 - accuracy: 0.9883\n",
            "Epoch 6/40\n",
            "938/938 [==============================] - 7s 7ms/step - loss: 0.0303 - accuracy: 0.9897\n",
            "Epoch 7/40\n",
            "938/938 [==============================] - 7s 8ms/step - loss: 0.0249 - accuracy: 0.9916\n",
            "Epoch 8/40\n",
            "938/938 [==============================] - 7s 8ms/step - loss: 0.0188 - accuracy: 0.9934\n",
            "Epoch 9/40\n",
            "938/938 [==============================] - 7s 8ms/step - loss: 0.0174 - accuracy: 0.9939\n",
            "Epoch 10/40\n",
            "938/938 [==============================] - 7s 8ms/step - loss: 0.0168 - accuracy: 0.9942\n",
            "Epoch 11/40\n",
            "938/938 [==============================] - 7s 8ms/step - loss: 0.0148 - accuracy: 0.9951\n",
            "Epoch 12/40\n",
            "938/938 [==============================] - 7s 7ms/step - loss: 0.0120 - accuracy: 0.9957\n",
            "Epoch 13/40\n",
            "938/938 [==============================] - 7s 7ms/step - loss: 0.0122 - accuracy: 0.9957\n",
            "Epoch 14/40\n",
            "938/938 [==============================] - 7s 7ms/step - loss: 0.0119 - accuracy: 0.9959\n",
            "Epoch 15/40\n",
            "938/938 [==============================] - 6s 6ms/step - loss: 0.0112 - accuracy: 0.9963\n",
            "Epoch 16/40\n",
            "938/938 [==============================] - 4s 5ms/step - loss: 0.0080 - accuracy: 0.9972\n",
            "Epoch 17/40\n",
            "938/938 [==============================] - 6s 6ms/step - loss: 0.0103 - accuracy: 0.9966\n",
            "Epoch 18/40\n",
            "938/938 [==============================] - 7s 8ms/step - loss: 0.0094 - accuracy: 0.9969\n",
            "Epoch 19/40\n",
            "938/938 [==============================] - 6s 7ms/step - loss: 0.0081 - accuracy: 0.9973\n",
            "Epoch 20/40\n",
            "938/938 [==============================] - 6s 7ms/step - loss: 0.0058 - accuracy: 0.9983\n",
            "Epoch 21/40\n",
            "938/938 [==============================] - 6s 7ms/step - loss: 0.0105 - accuracy: 0.9970\n",
            "Epoch 22/40\n",
            "938/938 [==============================] - 7s 7ms/step - loss: 0.0092 - accuracy: 0.9968\n",
            "Epoch 23/40\n",
            "938/938 [==============================] - 7s 7ms/step - loss: 0.0055 - accuracy: 0.9982\n",
            "Epoch 24/40\n",
            "938/938 [==============================] - 7s 8ms/step - loss: 0.0064 - accuracy: 0.9980\n",
            "Epoch 25/40\n",
            "938/938 [==============================] - 7s 7ms/step - loss: 0.0095 - accuracy: 0.9970\n",
            "Epoch 26/40\n",
            "938/938 [==============================] - 7s 8ms/step - loss: 0.0057 - accuracy: 0.9983\n",
            "Epoch 27/40\n",
            "938/938 [==============================] - 7s 8ms/step - loss: 0.0055 - accuracy: 0.9983\n",
            "Epoch 28/40\n",
            "938/938 [==============================] - 7s 7ms/step - loss: 0.0091 - accuracy: 0.9973\n",
            "Epoch 29/40\n",
            "938/938 [==============================] - 7s 8ms/step - loss: 0.0046 - accuracy: 0.9987\n",
            "Epoch 30/40\n",
            "938/938 [==============================] - 7s 7ms/step - loss: 0.0059 - accuracy: 0.9983\n",
            "Epoch 31/40\n",
            "938/938 [==============================] - 8s 8ms/step - loss: 0.0079 - accuracy: 0.9980\n",
            "Epoch 32/40\n",
            "938/938 [==============================] - 7s 8ms/step - loss: 0.0067 - accuracy: 0.9980\n",
            "Epoch 33/40\n",
            "938/938 [==============================] - 7s 8ms/step - loss: 0.0056 - accuracy: 0.9982\n",
            "Epoch 34/40\n",
            "938/938 [==============================] - 6s 7ms/step - loss: 0.0072 - accuracy: 0.9979\n",
            "Epoch 35/40\n",
            "938/938 [==============================] - 7s 7ms/step - loss: 0.0063 - accuracy: 0.9982\n",
            "Epoch 36/40\n",
            "938/938 [==============================] - 7s 7ms/step - loss: 0.0050 - accuracy: 0.9985\n",
            "Epoch 37/40\n",
            "938/938 [==============================] - 7s 7ms/step - loss: 0.0060 - accuracy: 0.9984\n",
            "Epoch 38/40\n",
            "938/938 [==============================] - 6s 7ms/step - loss: 0.0063 - accuracy: 0.9982\n",
            "Epoch 39/40\n",
            "938/938 [==============================] - 7s 7ms/step - loss: 0.0050 - accuracy: 0.9985\n",
            "Epoch 40/40\n",
            "938/938 [==============================] - 7s 7ms/step - loss: 0.0063 - accuracy: 0.9981\n"
          ]
        }
      ]
    },
    {
      "cell_type": "code",
      "metadata": {
        "colab": {
          "base_uri": "https://localhost:8080/"
        },
        "id": "Gg_is-ldgs3v",
        "outputId": "16547c3d-b7c4-41d0-96ee-691e746259b2"
      },
      "source": [
        "nn3.summary()"
      ],
      "execution_count": null,
      "outputs": [
        {
          "output_type": "stream",
          "name": "stdout",
          "text": [
            "Model: \"sequential_2\"\n",
            "_________________________________________________________________\n",
            "Layer (type)                 Output Shape              Param #   \n",
            "=================================================================\n",
            "dense_5 (Dense)              (None, 200)               157000    \n",
            "_________________________________________________________________\n",
            "dense_6 (Dense)              (None, 200)               40200     \n",
            "_________________________________________________________________\n",
            "dense_7 (Dense)              (None, 10)                2010      \n",
            "=================================================================\n",
            "Total params: 199,210\n",
            "Trainable params: 199,210\n",
            "Non-trainable params: 0\n",
            "_________________________________________________________________\n"
          ]
        }
      ]
    },
    {
      "cell_type": "code",
      "metadata": {
        "colab": {
          "base_uri": "https://localhost:8080/"
        },
        "id": "jrdp195F7w2q",
        "outputId": "32ce524a-7dbb-4367-c231-272cea108b15"
      },
      "source": [
        "#Comparison Metrics for Model #3\n",
        "\n",
        "prob_matrix3 = nn3.predict(test_imgs) #returns an array of length 10000 whose elements are 10-element arrays with probabilities\n",
        "test_predictions_nn3 = probability_to_decision(prob_matrix3)\n",
        "print(classification_report(test_labels,test_predictions_nn3))\n",
        "print(\"F1 Macro Score for MLP Model #3: \", f1_score(test_labels, test_predictions_nn3, average='macro'))"
      ],
      "execution_count": null,
      "outputs": [
        {
          "output_type": "stream",
          "name": "stdout",
          "text": [
            "              precision    recall  f1-score   support\n",
            "\n",
            "         0.0       0.99      0.99      0.99       980\n",
            "         1.0       0.99      0.99      0.99      1135\n",
            "         2.0       0.99      0.97      0.98      1032\n",
            "         3.0       0.96      0.99      0.97      1010\n",
            "         4.0       0.99      0.98      0.98       982\n",
            "         5.0       0.98      0.97      0.98       892\n",
            "         6.0       0.99      0.98      0.99       958\n",
            "         7.0       0.98      0.98      0.98      1028\n",
            "         8.0       0.98      0.98      0.98       974\n",
            "         9.0       0.97      0.98      0.98      1009\n",
            "\n",
            "    accuracy                           0.98     10000\n",
            "   macro avg       0.98      0.98      0.98     10000\n",
            "weighted avg       0.98      0.98      0.98     10000\n",
            "\n",
            "F1 Macro Score for MLP Model #3:  0.9816683213182724\n"
          ]
        }
      ]
    },
    {
      "cell_type": "markdown",
      "metadata": {
        "id": "i1P9z7MuQmsP"
      },
      "source": [
        "## (2) Implement the Convolutional Neural Network (CNN) model. "
      ]
    },
    {
      "cell_type": "markdown",
      "metadata": {
        "id": "vl0JZfLFQqUM"
      },
      "source": [
        "### (a) (1pts) In the CNN model you designed, how many convolution layers? For each convolution layer, what’s the size of filter (local receptive field), and stride step? How pooling is applied? How many parameters to learn in your model?"
      ]
    },
    {
      "cell_type": "markdown",
      "metadata": {
        "id": "A6CmlTrIiuoq"
      },
      "source": [
        "Here we will utilize Keras to build a CNN. We will use a stack of simple Conv2D() and MaxPooling to define our CNN. \n",
        "\n",
        "The Conv2D() function will create feature maps by sliding a filter across the image and performing a weighted sum at each step.  This funciton has the following parameters that need to be defined.\n",
        "\n",
        "1. filters = takes an integer with the number of feature maps to construct. Recall that each feature map attempts to identify a single feature in the image. \n",
        "2. kernal size = integer or tuple defining the size of the filter to be applied against each image.\n",
        "3. strides = integer or tuple defining the step to move the filter in each direction (horizontally and vertically)\n",
        "4. activation = activation function to be applied in each neuron\n",
        "\n",
        "The MaxPooling2D(pool_size = pool_size ) creates a condensed version of a feature map by picking the activation with highest value in a 2D region of space defined by the pool_size parameter. "
      ]
    },
    {
      "cell_type": "code",
      "metadata": {
        "colab": {
          "base_uri": "https://localhost:8080/"
        },
        "id": "iRTyrqdBRQmd",
        "outputId": "58b15384-61b0-48d1-cc10-fc3c1e74b43b"
      },
      "source": [
        "image_size = 28 # width and length\n",
        "image_pixels = image_size * image_size\n",
        "\n",
        "train_imgs_reshaped = np.expand_dims(train_imgs.reshape(60000,28,28), axis = 3)\n",
        "test_imgs_reshaped = np.expand_dims(test_imgs.reshape(10000,28,28), axis=3)\n",
        "test_imgs_reshaped.shape"
      ],
      "execution_count": null,
      "outputs": [
        {
          "output_type": "execute_result",
          "data": {
            "text/plain": [
              "(10000, 28, 28, 1)"
            ]
          },
          "metadata": {},
          "execution_count": 18
        }
      ]
    },
    {
      "cell_type": "markdown",
      "metadata": {
        "id": "7arQMzvbjC88"
      },
      "source": [
        "On Model #1 of our CNN, we will apply a **single stack of a convolution layer which will apply 5 different filters of size = (4,4) by sliding across our image with stride step = (1,1)**. Since each feature map shares the same weight, the number of learnable parameters after this convolution layer will be 5 x (4 x 4 + 1)  = 85 . The number of neurons after the convolution layer is (28 - 4)/1 + 1 = (25x25). Since we have 5 filter, the total number of neurons in this layer is 5 x (25 x 25). Thereafter, we will perform a **Max Pooling of size (2 x 2) with a stride of 2 in each feature map which will pick out the neuron with maximum value in a region of 2x2**. The number of neurons then reduces to (12 x 12) x 5. The condensed feature maps will be then passed onto 10 neurons in the output layer with a softmax activation function. **Thus the total number of learnable parameters for this model will be 7,295**"
      ]
    },
    {
      "cell_type": "code",
      "metadata": {
        "colab": {
          "base_uri": "https://localhost:8080/"
        },
        "id": "WzR31WgtYS9T",
        "outputId": "1cfa7686-c202-4b33-ce38-1e69df6f4e5e"
      },
      "source": [
        "from tensorflow.keras.layers import Conv2D, MaxPooling2D, Flatten\n",
        "\n",
        "n_filters = 5\n",
        "filter_size = 4\n",
        "stride_step = (1,1)\n",
        "pool_size = (2,2)\n",
        "activation = None\n",
        "\n",
        "cnn = Sequential([\n",
        "                  Conv2D(n_filters, filter_size, strides=stride_step, activation = activation, input_shape=(28,28,1)),\n",
        "                  MaxPooling2D(pool_size = pool_size ),\n",
        "                  Flatten(),\n",
        "                  Dense(10, activation='softmax')\n",
        "])\n",
        "\n",
        "cnn.compile(loss='categorical_crossentropy', optimizer='adam',metrics=['accuracy'])\n",
        "\n",
        "history = cnn.fit(train_imgs_reshaped,train_labels_one_hot, epochs = 15, batch_size=64)"
      ],
      "execution_count": null,
      "outputs": [
        {
          "output_type": "stream",
          "name": "stdout",
          "text": [
            "Epoch 1/15\n",
            "938/938 [==============================] - 16s 17ms/step - loss: 0.4593 - accuracy: 0.8734\n",
            "Epoch 2/15\n",
            "938/938 [==============================] - 16s 17ms/step - loss: 0.2430 - accuracy: 0.9323\n",
            "Epoch 3/15\n",
            "938/938 [==============================] - 16s 17ms/step - loss: 0.1918 - accuracy: 0.9458\n",
            "Epoch 4/15\n",
            "938/938 [==============================] - 16s 17ms/step - loss: 0.1610 - accuracy: 0.9548\n",
            "Epoch 5/15\n",
            "938/938 [==============================] - 16s 17ms/step - loss: 0.1397 - accuracy: 0.9607\n",
            "Epoch 6/15\n",
            "938/938 [==============================] - 16s 17ms/step - loss: 0.1247 - accuracy: 0.9648\n",
            "Epoch 7/15\n",
            "938/938 [==============================] - 16s 17ms/step - loss: 0.1128 - accuracy: 0.9672\n",
            "Epoch 8/15\n",
            "938/938 [==============================] - 16s 17ms/step - loss: 0.1039 - accuracy: 0.9692\n",
            "Epoch 9/15\n",
            "938/938 [==============================] - 16s 17ms/step - loss: 0.0967 - accuracy: 0.9715\n",
            "Epoch 10/15\n",
            "938/938 [==============================] - 16s 17ms/step - loss: 0.0904 - accuracy: 0.9730\n",
            "Epoch 11/15\n",
            "938/938 [==============================] - 16s 17ms/step - loss: 0.0858 - accuracy: 0.9748\n",
            "Epoch 12/15\n",
            "938/938 [==============================] - 16s 17ms/step - loss: 0.0820 - accuracy: 0.9756\n",
            "Epoch 13/15\n",
            "938/938 [==============================] - 16s 17ms/step - loss: 0.0780 - accuracy: 0.9768\n",
            "Epoch 14/15\n",
            "938/938 [==============================] - 16s 17ms/step - loss: 0.0753 - accuracy: 0.9775\n",
            "Epoch 15/15\n",
            "938/938 [==============================] - 16s 17ms/step - loss: 0.0724 - accuracy: 0.9783\n"
          ]
        }
      ]
    },
    {
      "cell_type": "code",
      "metadata": {
        "colab": {
          "base_uri": "https://localhost:8080/"
        },
        "id": "m-dSNhExqL4j",
        "outputId": "5c06e79d-9df9-4e90-d1b5-c5538f7e30e0"
      },
      "source": [
        "cnn.summary()"
      ],
      "execution_count": null,
      "outputs": [
        {
          "output_type": "stream",
          "name": "stdout",
          "text": [
            "Model: \"sequential_3\"\n",
            "_________________________________________________________________\n",
            "Layer (type)                 Output Shape              Param #   \n",
            "=================================================================\n",
            "conv2d (Conv2D)              (None, 25, 25, 5)         85        \n",
            "_________________________________________________________________\n",
            "max_pooling2d (MaxPooling2D) (None, 12, 12, 5)         0         \n",
            "_________________________________________________________________\n",
            "flatten (Flatten)            (None, 720)               0         \n",
            "_________________________________________________________________\n",
            "dense_8 (Dense)              (None, 10)                7210      \n",
            "=================================================================\n",
            "Total params: 7,295\n",
            "Trainable params: 7,295\n",
            "Non-trainable params: 0\n",
            "_________________________________________________________________\n"
          ]
        }
      ]
    },
    {
      "cell_type": "markdown",
      "metadata": {
        "id": "JuB9g_HPeBnW"
      },
      "source": [
        "### (b) (1pts) Show your learning curve (the decrease of loss function over iterations), and make sure that your model is well-trained.\n"
      ]
    },
    {
      "cell_type": "code",
      "metadata": {
        "colab": {
          "base_uri": "https://localhost:8080/",
          "height": 295
        },
        "id": "WhQOXeGpec3F",
        "outputId": "42df87cb-5e8f-401f-c38e-926973665b40"
      },
      "source": [
        "plt.figure()\n",
        "plt.plot(history.history['loss'])\n",
        "plt.title('Loss Function vs. Iterations')\n",
        "plt.ylabel('Loss')\n",
        "plt.xlabel('Epoch')\n",
        "plt.show()"
      ],
      "execution_count": null,
      "outputs": [
        {
          "output_type": "display_data",
          "data": {
            "image/png": "[encoded data removed]",
            "text/plain": [
              "<Figure size 432x288 with 1 Axes>"
            ]
          },
          "metadata": {
            "needs_background": "light"
          }
        }
      ]
    },
    {
      "cell_type": "markdown",
      "metadata": {
        "id": "-lrwq5XseFJ5"
      },
      "source": [
        "### (c) (1pts) what is the classification accuracy on your training data? And on the testing data? Hint: accuracy higher than 0.94 is expected."
      ]
    },
    {
      "cell_type": "code",
      "metadata": {
        "colab": {
          "base_uri": "https://localhost:8080/"
        },
        "id": "7IzCj2NPfjIN",
        "outputId": "75631391-7a73-467a-e713-b855cf2a43af"
      },
      "source": [
        "prob_arrays = cnn.predict(test_imgs_reshaped)\n",
        "test_predictions_cnn1 = probability_to_decision(prob_arrays)\n",
        "training_predictions_cnn1 = probability_to_decision(cnn.predict(train_imgs_reshaped))\n",
        "\n",
        "print(\"Accuracy Score on Test Data: \", accuracy_score(test_labels, test_predictions_cnn1))\n",
        "print(\"Accuracy Score on Training Data: \", accuracy_score(train_labels, training_predictions_cnn1))"
      ],
      "execution_count": null,
      "outputs": [
        {
          "output_type": "stream",
          "name": "stdout",
          "text": [
            "Accuracy Score on Test Data:  0.971\n",
            "Accuracy Score on Training Data:  0.9797333333333333\n"
          ]
        }
      ]
    },
    {
      "cell_type": "markdown",
      "metadata": {
        "id": "2bMRYndVeI6U"
      },
      "source": [
        "### (d) (2pts) please show the confusion matrix from your prediction results on the testing data, and discuss what you can observe from the confusion matrix (how the model made what kinds of wrong classifications)."
      ]
    },
    {
      "cell_type": "code",
      "metadata": {
        "colab": {
          "base_uri": "https://localhost:8080/",
          "height": 326
        },
        "id": "0UhiARIwg_WZ",
        "outputId": "837f87e5-1ddc-4454-8bb4-85abda68add5"
      },
      "source": [
        "conf_matrix = confusion_matrix(test_labels, test_predictions_cnn1)\n",
        "plt.figure(figsize = (16,5))\n",
        "ax = plt.subplot()\n",
        "sn.heatmap(conf_matrix, ax = ax, annot=True, fmt='g')\n",
        "ax.xaxis.set_label_position('top')\n",
        "ax.xaxis.tick_top()\n"
      ],
      "execution_count": null,
      "outputs": [
        {
          "output_type": "display_data",
          "data": {
            "image/png": "[encoded data removed]",
            "text/plain": [
              "<Figure size 1152x360 with 2 Axes>"
            ]
          },
          "metadata": {
            "needs_background": "light"
          }
        }
      ]
    },
    {
      "cell_type": "markdown",
      "metadata": {
        "id": "OLTSEZyueNy4"
      },
      "source": [
        "### (e) (1.5 pts) please report the precision, recall and F1-measure for each of the 10 classes, and the Macro-F1 value as an overall evaluation score."
      ]
    },
    {
      "cell_type": "code",
      "metadata": {
        "colab": {
          "base_uri": "https://localhost:8080/"
        },
        "id": "DN8f9K4YhoEg",
        "outputId": "ad1d48da-a654-4a75-ccef-9b2e864e4308"
      },
      "source": [
        "print(classification_report(test_labels, test_predictions_cnn1))\n",
        "print(\"F1 Macro Score for CNN Model #1: \", f1_score(test_labels, test_predictions_cnn1, average='macro'))"
      ],
      "execution_count": null,
      "outputs": [
        {
          "output_type": "stream",
          "name": "stdout",
          "text": [
            "              precision    recall  f1-score   support\n",
            "\n",
            "         0.0       0.96      0.99      0.97       980\n",
            "         1.0       0.99      0.99      0.99      1135\n",
            "         2.0       0.96      0.96      0.96      1032\n",
            "         3.0       0.96      0.97      0.97      1010\n",
            "         4.0       0.97      0.98      0.97       982\n",
            "         5.0       0.97      0.97      0.97       892\n",
            "         6.0       0.99      0.96      0.97       958\n",
            "         7.0       0.98      0.97      0.97      1028\n",
            "         8.0       0.96      0.97      0.96       974\n",
            "         9.0       0.99      0.95      0.97      1009\n",
            "\n",
            "    accuracy                           0.97     10000\n",
            "   macro avg       0.97      0.97      0.97     10000\n",
            "weighted avg       0.97      0.97      0.97     10000\n",
            "\n",
            "F1 Macro Score for CNN Model #1:  0.9708064721114766\n"
          ]
        }
      ]
    },
    {
      "cell_type": "markdown",
      "metadata": {
        "id": "vX7dFdyteRjw"
      },
      "source": [
        "### (f) (1.5 pts) Please compare the Macro-F1 score of your 3 different models (with different number of parameters), and discuss which one is better and why. Please compare the performance of your best CNN model and that of your best multi-layer neural network model. Which one is better?"
      ]
    },
    {
      "cell_type": "markdown",
      "metadata": {
        "id": "WcTRqs6D1RbX"
      },
      "source": [
        "Summaries of the 3 models:\n",
        "\n",
        "1. On Model #1 of our CNN, we will use single stack of a convolution layer which will apply 5 different filters of size = (4,4) with stride step = (1,1). Thereafter, we will perform a Max Pooling of size (2 x 2) with a stride of 2 in each feature map which will pick out the neuron with maximum value in a region of 2x2. Then the values are passed onto 10 neurons with a softmax activation function **Thus the total number of learnable parameters for this model will be 7,295. F1 Macro Score for CNN Model #1:  0.9708064721114766**\n",
        "\n",
        "2. In Model #2 we will use use two layes of convolution. At the first layer, we apply a 5 filters of size (4 x 4) with stride step (1, 1). In the second convolution layer, we will apply 10 filters of size (3 x 3) with stride step (1 x 1). The output of both convolution layers are passed through a max pooling of size (2 x 2) with stride step 2. **In this model, the total number of learnable parameters are 3,055 and the total execution time equals to 4m and 22s. F1 Macro Score for CNN Model #2:   0.9838117133260837** \n",
        "\n",
        "3. Model #3 will have two convolution layers, the first will utilize 3 filters of size (3 x 3) with stride step (1 x 1). The second will use 6 more filters of size (3 x 3) with step (1 x 1). Each convolution layers uses a 'relu' activation function on the activation which are then passed through a max pooling of size (2 x 2). The activations maps are then connected to a regular MLP with 80 hidden units in the first layer and 10 units in the output layer with a softmax activation function **The total number of learnable parameters for this model is 13,088 and the execution time is 3m and 29 seconds. F1 Macro Score for Model #3:  0.9865926401388665**\n",
        "\n",
        "The CNN model with the highest Macro F1 score is CNN Model #3, achiecing  Macro Score of 0.9865. This model outperforms the best  MLP model previously discussed while having significantly less parameters to learn (13,088 compared to 199,210). It seems that performing convolution layers followed by pooling layer greatly improves the performance of the models. Even the second best CNN model outperforms our best MLP model. **The overall winner is CNN Model #3**"
      ]
    },
    {
      "cell_type": "code",
      "metadata": {
        "colab": {
          "base_uri": "https://localhost:8080/"
        },
        "id": "7Q6qDtClZCoI",
        "outputId": "ba1b3874-cb22-4031-8153-b123811f9797"
      },
      "source": [
        "# Model #2 \n",
        "\n",
        "#Filters is the number of filters in the convolution output \n",
        "activation = None\n",
        "\n",
        "cnn2 = Sequential([\n",
        "                  Conv2D(filters = 5, kernel_size = (4, 4), strides = (1,1), activation = activation, input_shape=(28,28,1)),\n",
        "                  MaxPooling2D(pool_size = (2,2) ),\n",
        "                  Conv2D(filters = 10, kernel_size = (3, 3), strides = (1,1), activation = activation),\n",
        "                  MaxPooling2D(pool_size = (2,2) ),\n",
        "                  Flatten(),\n",
        "                  Dense(10, activation='softmax')\n",
        "])\n",
        "\n",
        "cnn2.compile(loss='categorical_crossentropy', optimizer='adam',metrics=['accuracy'])\n",
        "\n",
        "history = cnn2.fit(train_imgs_reshaped,train_labels_one_hot, epochs = 15, batch_size=64)"
      ],
      "execution_count": null,
      "outputs": [
        {
          "output_type": "stream",
          "name": "stdout",
          "text": [
            "Epoch 1/15\n",
            "938/938 [==============================] - 21s 22ms/step - loss: 0.3998 - accuracy: 0.8857\n",
            "Epoch 2/15\n",
            "938/938 [==============================] - 20s 21ms/step - loss: 0.1445 - accuracy: 0.9573\n",
            "Epoch 3/15\n",
            "938/938 [==============================] - 20s 21ms/step - loss: 0.1060 - accuracy: 0.9686\n",
            "Epoch 4/15\n",
            "938/938 [==============================] - 20s 21ms/step - loss: 0.0887 - accuracy: 0.9732\n",
            "Epoch 5/15\n",
            "938/938 [==============================] - 20s 21ms/step - loss: 0.0783 - accuracy: 0.9761\n",
            "Epoch 6/15\n",
            "938/938 [==============================] - 19s 21ms/step - loss: 0.0714 - accuracy: 0.9785\n",
            "Epoch 7/15\n",
            "938/938 [==============================] - 20s 21ms/step - loss: 0.0670 - accuracy: 0.9800\n",
            "Epoch 8/15\n",
            "938/938 [==============================] - 21s 23ms/step - loss: 0.0623 - accuracy: 0.9813\n",
            "Epoch 9/15\n",
            "938/938 [==============================] - 19s 20ms/step - loss: 0.0582 - accuracy: 0.9825\n",
            "Epoch 10/15\n",
            "938/938 [==============================] - 19s 20ms/step - loss: 0.0568 - accuracy: 0.9822\n",
            "Epoch 11/15\n",
            "938/938 [==============================] - 19s 20ms/step - loss: 0.0531 - accuracy: 0.9837\n",
            "Epoch 12/15\n",
            "938/938 [==============================] - 19s 20ms/step - loss: 0.0519 - accuracy: 0.9841\n",
            "Epoch 13/15\n",
            "938/938 [==============================] - 19s 20ms/step - loss: 0.0506 - accuracy: 0.9847\n",
            "Epoch 14/15\n",
            "938/938 [==============================] - 19s 20ms/step - loss: 0.0477 - accuracy: 0.9850\n",
            "Epoch 15/15\n",
            "938/938 [==============================] - 19s 20ms/step - loss: 0.0468 - accuracy: 0.9857\n"
          ]
        }
      ]
    },
    {
      "cell_type": "code",
      "metadata": {
        "colab": {
          "base_uri": "https://localhost:8080/"
        },
        "id": "Ciitv1w3vbM_",
        "outputId": "a4c2de9c-61c9-462e-fc03-b464e090089a"
      },
      "source": [
        "cnn2.summary()"
      ],
      "execution_count": null,
      "outputs": [
        {
          "output_type": "stream",
          "name": "stdout",
          "text": [
            "Model: \"sequential_4\"\n",
            "_________________________________________________________________\n",
            "Layer (type)                 Output Shape              Param #   \n",
            "=================================================================\n",
            "conv2d_1 (Conv2D)            (None, 25, 25, 5)         85        \n",
            "_________________________________________________________________\n",
            "max_pooling2d_1 (MaxPooling2 (None, 12, 12, 5)         0         \n",
            "_________________________________________________________________\n",
            "conv2d_2 (Conv2D)            (None, 10, 10, 10)        460       \n",
            "_________________________________________________________________\n",
            "max_pooling2d_2 (MaxPooling2 (None, 5, 5, 10)          0         \n",
            "_________________________________________________________________\n",
            "flatten_1 (Flatten)          (None, 250)               0         \n",
            "_________________________________________________________________\n",
            "dense_9 (Dense)              (None, 10)                2510      \n",
            "=================================================================\n",
            "Total params: 3,055\n",
            "Trainable params: 3,055\n",
            "Non-trainable params: 0\n",
            "_________________________________________________________________\n"
          ]
        }
      ]
    },
    {
      "cell_type": "code",
      "metadata": {
        "colab": {
          "base_uri": "https://localhost:8080/"
        },
        "id": "aDLOiD82fLvA",
        "outputId": "61d5d445-6371-4243-d049-ecd382e93252"
      },
      "source": [
        "prob_arrays2 = cnn2.predict(test_imgs_reshaped)\n",
        "test_predictions_cnn2 = probability_to_decision(prob_arrays2)\n",
        "print(classification_report(test_labels,test_predictions_cnn2))\n",
        "print(\"Accuracy Score on Test Data: \", accuracy_score(test_labels, test_predictions_cnn2))\n",
        "print(\"F1 Macro Score for CNN Model #2: \", f1_score(test_labels, test_predictions_cnn2, average='macro'))"
      ],
      "execution_count": null,
      "outputs": [
        {
          "output_type": "stream",
          "name": "stdout",
          "text": [
            "              precision    recall  f1-score   support\n",
            "\n",
            "         0.0       0.98      0.99      0.99       980\n",
            "         1.0       0.99      1.00      0.99      1135\n",
            "         2.0       0.98      0.98      0.98      1032\n",
            "         3.0       0.98      0.99      0.98      1010\n",
            "         4.0       0.99      0.98      0.99       982\n",
            "         5.0       0.98      0.99      0.98       892\n",
            "         6.0       0.99      0.98      0.99       958\n",
            "         7.0       0.98      0.98      0.98      1028\n",
            "         8.0       0.99      0.97      0.98       974\n",
            "         9.0       0.97      0.98      0.98      1009\n",
            "\n",
            "    accuracy                           0.98     10000\n",
            "   macro avg       0.98      0.98      0.98     10000\n",
            "weighted avg       0.98      0.98      0.98     10000\n",
            "\n",
            "Accuracy Score on Test Data:  0.9839\n",
            "F1 Macro Score for CNN Model #2:  0.9838117133260837\n"
          ]
        }
      ]
    },
    {
      "cell_type": "code",
      "metadata": {
        "colab": {
          "base_uri": "https://localhost:8080/"
        },
        "id": "72JDz-Ao22qY",
        "outputId": "2a3b1e16-d3f8-4986-a16e-a3d563a69b97"
      },
      "source": [
        "# Model 3\n",
        "\n",
        "activation = 'relu'\n",
        "\n",
        "cnn3 = Sequential([\n",
        "                  Conv2D(filters = 3, kernel_size = (3, 3), strides = (1,1), activation = activation, input_shape=(28,28,1)),\n",
        "                  MaxPooling2D(pool_size = (2,2) ),\n",
        "                  Conv2D(filters = 6, kernel_size = (3, 3), strides = (1,1), activation = activation),\n",
        "                  MaxPooling2D(pool_size = (2,2) ),\n",
        "                  Flatten(),\n",
        "                  Dense(80, activation='relu'),\n",
        "                  Dense(10, activation='softmax')\n",
        "])\n",
        "\n",
        "cnn3.compile(loss='categorical_crossentropy', optimizer='adam',metrics=['accuracy'])\n",
        "\n",
        "history = cnn3.fit(train_imgs_reshaped,train_labels_one_hot, epochs = 15, batch_size=64)"
      ],
      "execution_count": null,
      "outputs": [
        {
          "output_type": "stream",
          "name": "stdout",
          "text": [
            "Epoch 1/15\n",
            "938/938 [==============================] - 19s 19ms/step - loss: 0.3744 - accuracy: 0.8900\n",
            "Epoch 2/15\n",
            "938/938 [==============================] - 18s 19ms/step - loss: 0.1271 - accuracy: 0.9617\n",
            "Epoch 3/15\n",
            "938/938 [==============================] - 18s 19ms/step - loss: 0.0970 - accuracy: 0.9703\n",
            "Epoch 4/15\n",
            "938/938 [==============================] - 18s 19ms/step - loss: 0.0800 - accuracy: 0.9754\n",
            "Epoch 5/15\n",
            "938/938 [==============================] - 18s 19ms/step - loss: 0.0688 - accuracy: 0.9793\n",
            "Epoch 6/15\n",
            "938/938 [==============================] - 18s 19ms/step - loss: 0.0609 - accuracy: 0.9802\n",
            "Epoch 7/15\n",
            "938/938 [==============================] - 18s 19ms/step - loss: 0.0530 - accuracy: 0.9831\n",
            "Epoch 8/15\n",
            "938/938 [==============================] - 18s 19ms/step - loss: 0.0482 - accuracy: 0.9845\n",
            "Epoch 9/15\n",
            "938/938 [==============================] - 18s 19ms/step - loss: 0.0438 - accuracy: 0.9858\n",
            "Epoch 10/15\n",
            "938/938 [==============================] - 18s 19ms/step - loss: 0.0380 - accuracy: 0.9880\n",
            "Epoch 11/15\n",
            "938/938 [==============================] - 18s 19ms/step - loss: 0.0356 - accuracy: 0.9887\n",
            "Epoch 12/15\n",
            "938/938 [==============================] - 18s 20ms/step - loss: 0.0331 - accuracy: 0.9895\n",
            "Epoch 13/15\n",
            "938/938 [==============================] - 18s 19ms/step - loss: 0.0309 - accuracy: 0.9901\n",
            "Epoch 14/15\n",
            "938/938 [==============================] - 18s 19ms/step - loss: 0.0278 - accuracy: 0.9910\n",
            "Epoch 15/15\n",
            "938/938 [==============================] - 18s 19ms/step - loss: 0.0256 - accuracy: 0.9918\n"
          ]
        }
      ]
    },
    {
      "cell_type": "code",
      "metadata": {
        "colab": {
          "base_uri": "https://localhost:8080/"
        },
        "id": "HwYjI40t5cM-",
        "outputId": "006a423a-aca1-45b2-a313-c92bda016d9d"
      },
      "source": [
        "cnn3.summary()"
      ],
      "execution_count": null,
      "outputs": [
        {
          "output_type": "stream",
          "name": "stdout",
          "text": [
            "Model: \"sequential_5\"\n",
            "_________________________________________________________________\n",
            "Layer (type)                 Output Shape              Param #   \n",
            "=================================================================\n",
            "conv2d_3 (Conv2D)            (None, 26, 26, 3)         30        \n",
            "_________________________________________________________________\n",
            "max_pooling2d_3 (MaxPooling2 (None, 13, 13, 3)         0         \n",
            "_________________________________________________________________\n",
            "conv2d_4 (Conv2D)            (None, 11, 11, 6)         168       \n",
            "_________________________________________________________________\n",
            "max_pooling2d_4 (MaxPooling2 (None, 5, 5, 6)           0         \n",
            "_________________________________________________________________\n",
            "flatten_2 (Flatten)          (None, 150)               0         \n",
            "_________________________________________________________________\n",
            "dense_10 (Dense)             (None, 80)                12080     \n",
            "_________________________________________________________________\n",
            "dense_11 (Dense)             (None, 10)                810       \n",
            "=================================================================\n",
            "Total params: 13,088\n",
            "Trainable params: 13,088\n",
            "Non-trainable params: 0\n",
            "_________________________________________________________________\n"
          ]
        }
      ]
    },
    {
      "cell_type": "code",
      "metadata": {
        "colab": {
          "base_uri": "https://localhost:8080/"
        },
        "id": "VkvLH6bZ5rJl",
        "outputId": "dee9714a-10fd-4a4a-d7c2-1c9bdb77ad33"
      },
      "source": [
        "prob_arrays3 = cnn3.predict(test_imgs_reshaped)\n",
        "test_predictions_cnn3 = probability_to_decision(prob_arrays3)\n",
        "print(classification_report(test_labels,test_predictions_cnn3))\n",
        "print(\"Accuracy Score on Test Data: \", accuracy_score(test_labels, test_predictions_cnn3))\n",
        "print(\"F1 Macro Score for CNN Model #3: \", f1_score(test_labels, test_predictions_cnn3, average='macro'))"
      ],
      "execution_count": null,
      "outputs": [
        {
          "output_type": "stream",
          "name": "stdout",
          "text": [
            "              precision    recall  f1-score   support\n",
            "\n",
            "         0.0       0.99      1.00      0.99       980\n",
            "         1.0       0.99      1.00      0.99      1135\n",
            "         2.0       0.98      0.99      0.99      1032\n",
            "         3.0       0.98      0.99      0.99      1010\n",
            "         4.0       0.98      0.99      0.99       982\n",
            "         5.0       0.99      0.98      0.99       892\n",
            "         6.0       0.99      0.98      0.99       958\n",
            "         7.0       0.99      0.98      0.98      1028\n",
            "         8.0       0.98      0.98      0.98       974\n",
            "         9.0       0.99      0.98      0.98      1009\n",
            "\n",
            "    accuracy                           0.99     10000\n",
            "   macro avg       0.99      0.99      0.99     10000\n",
            "weighted avg       0.99      0.99      0.99     10000\n",
            "\n",
            "Accuracy Score on Test Data:  0.9867\n",
            "F1 Macro Score for CNN Model #3:  0.9865926401388665\n"
          ]
        }
      ]
    }
  ]
}